{
 "cells": [
  {
   "cell_type": "code",
   "execution_count": null,
   "metadata": {},
   "outputs": [],
   "source": [
    "import numpy as np \n",
    "import pandas as pd \n",
    "import itertools\n",
    "from pandasql import sqldf"
   ]
  },
  {
   "cell_type": "code",
   "execution_count": null,
   "metadata": {},
   "outputs": [],
   "source": [
    "pd.options.display.max_rows=None"
   ]
  },
  {
   "cell_type": "code",
   "execution_count": null,
   "metadata": {
    "_cell_guid": "79c7e3d0-c299-4dcb-8224-4455121ee9b0",
    "_uuid": "d629ff2d2480ee46fbb7e2d37f6b5fab8052498a"
   },
   "outputs": [],
   "source": [
    "df_us_counties = pd.read_csv('data/us-counties.csv')"
   ]
  },
  {
   "cell_type": "code",
   "execution_count": null,
   "metadata": {},
   "outputs": [],
   "source": [
    "#sqldf(\"SELECT * FROM df_us_counties WHERE county = 'Snohomish'\")"
   ]
  },
  {
   "cell_type": "code",
   "execution_count": null,
   "metadata": {},
   "outputs": [],
   "source": [
    "df_us_counties = sqldf(\"SELECT * FROM df_us_counties ORDER BY county, state, date\")"
   ]
  },
  {
   "cell_type": "code",
   "execution_count": null,
   "metadata": {},
   "outputs": [],
   "source": [
    "df_us_counties[:100]"
   ]
  },
  {
   "cell_type": "code",
   "execution_count": null,
   "metadata": {},
   "outputs": [],
   "source": [
    "# code to convert cumulative deaths and cases into daily new deaths and cases\n",
    "daily_deaths = []\n",
    "daily_cases = []\n",
    "county = df_us_counties.iloc[0]['county']\n",
    "state = df_us_counties.iloc[0]['state']\n",
    "i = 0\n",
    "daily_deaths.append(df_us_counties.iloc[0]['deaths'])\n",
    "daily_cases.append(df_us_counties.iloc[0]['cases'])\n",
    "pdc = daily_deaths[0]\n",
    "pcc = daily_cases[0]\n",
    "for d in df_us_counties.iloc[1:].iterrows():\n",
    "    \n",
    "    if d[1]['county'] == county and d[1]['state'] == state:\n",
    "        daily_deaths.append(max(d[1]['deaths'] - pdc, 0))\n",
    "        daily_cases.append(max(d[1]['cases'] - pcc, 0))\n",
    "        pdc = d[1]['deaths']\n",
    "        pcc = d[1]['cases']\n",
    "    else:\n",
    "        daily_deaths.append(d[1]['deaths'])\n",
    "        daily_cases.append(d[1]['deaths'])\n",
    "        pdc = 0\n",
    "        pcc = 0\n",
    "        county = d[1]['county']\n",
    "        state = d[1]['state']\n",
    "    i += 1"
   ]
  },
  {
   "cell_type": "code",
   "execution_count": null,
   "metadata": {},
   "outputs": [],
   "source": [
    "df_us_counties['daily_deaths'] = daily_deaths\n",
    "df_us_counties['daily_cases'] = daily_cases"
   ]
  },
  {
   "cell_type": "code",
   "execution_count": null,
   "metadata": {},
   "outputs": [],
   "source": [
    "df_us_counties['daily_ratio'] = df_us_counties.daily_deaths / df_us_counties.daily_cases\n",
    "df_us_counties = df_us_counties.fillna(0)\n",
    "df_us_counties = df_us_counties.replace(np.inf, 0)"
   ]
  },
  {
   "cell_type": "code",
   "execution_count": null,
   "metadata": {},
   "outputs": [],
   "source": [
    "df_us_counties[:200]"
   ]
  },
  {
   "cell_type": "code",
   "execution_count": null,
   "metadata": {},
   "outputs": [],
   "source": [
    "# only include those counties that have had at least one day with at 1000+ cases \n",
    "plus_1000 = sqldf(\"SELECT distinct county, state, daily_cases FROM df_us_counties WHERE daily_cases > 1000 ORDER BY daily_ratio DESC\")"
   ]
  },
  {
   "cell_type": "code",
   "execution_count": null,
   "metadata": {},
   "outputs": [],
   "source": [
    "len(plus_1000)"
   ]
  },
  {
   "cell_type": "code",
   "execution_count": null,
   "metadata": {},
   "outputs": [],
   "source": [
    "# get a list of \n",
    "\n",
    "county_state = []\n",
    "\n",
    "for r in plus_1000.iterrows():\n",
    "    county_state.append((r[1]['county'], r[1]['state']))\n",
    "\n",
    "#county_state\n"
   ]
  },
  {
   "cell_type": "code",
   "execution_count": null,
   "metadata": {},
   "outputs": [],
   "source": [
    "data = sqldf(\"SELECT * FROM df_us_counties WHERE county = '\" + county_state[1][0] + \"' AND state = '\" + county_state[1][1] + \"' ORDER BY state, date\")\n",
    "len(data)"
   ]
  },
  {
   "cell_type": "code",
   "execution_count": null,
   "metadata": {},
   "outputs": [],
   "source": [
    "training_data = []\n",
    "result_row = []\n",
    "data_row = []\n",
    "\n",
    "k = 0\n",
    "for cs in county_state:\n",
    "\n",
    "    # limit it for speed\n",
    "    if k >= 10:\n",
    "        break\n",
    "    k += 1\n",
    "    \n",
    "    data = sqldf(\"SELECT * FROM df_us_counties WHERE county = '\" + cs[0] + \"' AND state = '\" + cs[1] + \"' ORDER BY state, date\")\n",
    "        \n",
    "    for i in range(10, len(data)+1):\n",
    "        data_row = []\n",
    "        for j in range(i-10, i):\n",
    "            data_row.append((data.iloc[j]['daily_cases'], data.iloc[j]['daily_deaths']))\n",
    "        training_data.append(list(itertools.chain(*data_row)))\n",
    "        result_row.append(data.iloc[i-1]['daily_ratio'])"
   ]
  },
  {
   "cell_type": "code",
   "execution_count": null,
   "metadata": {},
   "outputs": [],
   "source": [
    "len(training_data)"
   ]
  },
  {
   "cell_type": "code",
   "execution_count": null,
   "metadata": {},
   "outputs": [],
   "source": [
    "# run this cell to see the input and result vectors for the ML input\n",
    "i = 0\n",
    "for t in training_data:\n",
    "    print(i, t, result_row[i])\n",
    "    i += 1\n",
    "    \n",
    "    if i > 100:\n",
    "        break"
   ]
  },
  {
   "cell_type": "code",
   "execution_count": null,
   "metadata": {},
   "outputs": [],
   "source": [
    "# now we have data and result vectors to train a ML model "
   ]
  },
  {
   "cell_type": "code",
   "execution_count": null,
   "metadata": {},
   "outputs": [],
   "source": [
    "from sklearn.ensemble import RandomForestRegressor"
   ]
  },
  {
   "cell_type": "code",
   "execution_count": null,
   "metadata": {},
   "outputs": [],
   "source": [
    "ml = RandomForestRegressor(n_estimators=100, max_depth=10,random_state=0)"
   ]
  },
  {
   "cell_type": "code",
   "execution_count": null,
   "metadata": {},
   "outputs": [],
   "source": [
    "ml.fit(training_data, result_row)"
   ]
  },
  {
   "cell_type": "code",
   "execution_count": null,
   "metadata": {},
   "outputs": [],
   "source": [
    "# look through predicted and actual daily death:case ratios on each vector\n",
    "for i in range(len(training_data)):\n",
    "    print(i, ml.predict([training_data[i]])[0], result_row[i])\n",
    "    i += 1"
   ]
  },
  {
   "cell_type": "code",
   "execution_count": null,
   "metadata": {},
   "outputs": [],
   "source": [
    "# use follow up on a few of the outliers, they look ok\n",
    "sqldf(\"SELECT * FROM df_us_counties WHERE daily_ratio = 0.29411764705882354\")"
   ]
  },
  {
   "cell_type": "code",
   "execution_count": null,
   "metadata": {},
   "outputs": [],
   "source": [
    "# predict a single vector\n",
    "print(ml.predict([[45, 10, 130, 4, 101, 7, 141, 8, 101, 1, 130, 11, 112, 7, 82, 6, 219, 10, 251, 16]]))"
   ]
  },
  {
   "cell_type": "code",
   "execution_count": null,
   "metadata": {},
   "outputs": [],
   "source": [
    "# looks like the current daily number of cases and deaths are driving most of the per\n",
    "# previous 9 days the remaining 60-70%\n",
    "ml.feature_importances_"
   ]
  },
  {
   "cell_type": "code",
   "execution_count": null,
   "metadata": {},
   "outputs": [],
   "source": []
  }
 ],
 "metadata": {
  "kernelspec": {
   "display_name": "Python 3",
   "language": "python",
   "name": "python3"
  },
  "language_info": {
   "codemirror_mode": {
    "name": "ipython",
    "version": 3
   },
   "file_extension": ".py",
   "mimetype": "text/x-python",
   "name": "python",
   "nbconvert_exporter": "python",
   "pygments_lexer": "ipython3",
   "version": "3.6.8"
  }
 },
 "nbformat": 4,
 "nbformat_minor": 4
}
